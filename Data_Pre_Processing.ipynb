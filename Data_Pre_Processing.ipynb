{
  "cells": [
    {
      "cell_type": "markdown",
      "metadata": {
        "id": "view-in-github",
        "colab_type": "text"
      },
      "source": [
        "<a href=\"https://colab.research.google.com/github/Aakash280/Python_Machine_Learning/blob/main/Data_Pre_Processing.ipynb\" target=\"_parent\"><img src=\"https://colab.research.google.com/assets/colab-badge.svg\" alt=\"Open In Colab\"/></a>"
      ]
    },
    {
      "cell_type": "code",
      "execution_count": null,
      "id": "2ef03be4",
      "metadata": {
        "id": "2ef03be4"
      },
      "outputs": [],
      "source": [
        "import pandas as pd\n",
        "import numpy as np\n",
        "import matplotlib.pyplot as plt\n",
        "import seaborn as sns"
      ]
    },
    {
      "cell_type": "code",
      "execution_count": null,
      "id": "f0963db9",
      "metadata": {
        "id": "f0963db9"
      },
      "outputs": [],
      "source": [
        "df1 = pd.read_csv(\"(PRETTYGARDEN Womens Casual Bodycon Pockets).csv\")\n",
        "df2 = pd.read_csv(\"amazon product review (Big Book Dashboards Visualizing Real World).csv\")\n",
        "df3 = pd.read_csv(\"sandisk (SanDisk 128GB MicroSDXC Memory Adapter).csv\")\n",
        "df4 = pd.read_csv(\"amazon product review (Apple AirPods Charging Latest Model).csv\")\n",
        "df5 = pd.read_csv(\"amazon product review (Acer A515 46 R3UB Display Quad Core Processor).csv\")\n",
        "df6 = pd.read_csv(\"amazon product review (Affresh Washer Machine Cleaner 6 Tablets).csv\")\n",
        "df7 = pd.read_csv(\"amazon product review (NETGEAR Wi Fi Range Extender EX3700).csv\")\n",
        "df8 = pd.read_csv(\"amazon product review (Seagate Portable External Hard Drive).csv\")\n",
        "df9 = pd.read_csv(\"amazon product review (TOZO T6 Bluetooth Headphones Waterproof).csv\")"
      ]
    },
    {
      "cell_type": "code",
      "execution_count": null,
      "id": "ddfa3119",
      "metadata": {
        "id": "ddfa3119"
      },
      "outputs": [],
      "source": [
        "df = df1.merge(df2, how='outer')\n",
        "df = df.merge(df3, how='outer')\n",
        "df = df.merge(df4, how='outer')\n",
        "df = df.merge(df5, how='outer')\n",
        "df = df.merge(df6, how='outer')\n",
        "df = df.merge(df7, how='outer')\n",
        "df = df.merge(df8, how='outer')\n",
        "df = df.merge(df9, how='outer')"
      ]
    },
    {
      "cell_type": "code",
      "execution_count": null,
      "id": "f131501f",
      "metadata": {
        "id": "f131501f",
        "outputId": "44caf879-2f1d-4bbf-ec25-f1fa09d7e37d"
      },
      "outputs": [
        {
          "data": {
            "text/plain": [
              "(24100, 8)"
            ]
          },
          "execution_count": 6,
          "metadata": {},
          "output_type": "execute_result"
        }
      ],
      "source": [
        "df.shape"
      ]
    },
    {
      "cell_type": "code",
      "execution_count": null,
      "id": "88d7e90f",
      "metadata": {
        "id": "88d7e90f",
        "outputId": "3f5ba912-cf75-4145-ba96-44c8c5c8689a"
      },
      "outputs": [
        {
          "data": {
            "text/plain": [
              "Index(['product_name', 'review_title', 'comment', 'rating', 'date', 'username',\n",
              "       'profile_url', 'verified_purchase'],\n",
              "      dtype='object')"
            ]
          },
          "execution_count": 9,
          "metadata": {},
          "output_type": "execute_result"
        }
      ],
      "source": [
        "df.columns"
      ]
    },
    {
      "cell_type": "code",
      "execution_count": null,
      "id": "aef1800f",
      "metadata": {
        "id": "aef1800f",
        "outputId": "6266c865-3596-4f6d-96f8-ccc4073bb462"
      },
      "outputs": [
        {
          "data": {
            "text/plain": [
              "product_name         object\n",
              "review_title         object\n",
              "comment              object\n",
              "rating               object\n",
              "date                 object\n",
              "username             object\n",
              "profile_url          object\n",
              "verified_purchase      bool\n",
              "dtype: object"
            ]
          },
          "execution_count": 10,
          "metadata": {},
          "output_type": "execute_result"
        }
      ],
      "source": [
        "df.dtypes"
      ]
    },
    {
      "cell_type": "code",
      "execution_count": null,
      "id": "60f1e95d",
      "metadata": {
        "id": "60f1e95d",
        "outputId": "de12672e-01d1-4c0e-a345-6b1c5bc463dc"
      },
      "outputs": [
        {
          "data": {
            "text/plain": [
              "product_name          0\n",
              "review_title          5\n",
              "comment              87\n",
              "rating                0\n",
              "date                  0\n",
              "username              1\n",
              "profile_url           0\n",
              "verified_purchase     0\n",
              "dtype: int64"
            ]
          },
          "execution_count": 8,
          "metadata": {},
          "output_type": "execute_result"
        }
      ],
      "source": [
        "# Check for missing values\n",
        "df.isnull().sum()"
      ]
    },
    {
      "cell_type": "code",
      "execution_count": null,
      "id": "7364c4f4",
      "metadata": {
        "id": "7364c4f4",
        "outputId": "b8e13b48-cfca-4978-d5c2-646a5e1d712d"
      },
      "outputs": [
        {
          "data": {
            "text/html": [
              "<div>\n",
              "<style scoped>\n",
              "    .dataframe tbody tr th:only-of-type {\n",
              "        vertical-align: middle;\n",
              "    }\n",
              "\n",
              "    .dataframe tbody tr th {\n",
              "        vertical-align: top;\n",
              "    }\n",
              "\n",
              "    .dataframe thead th {\n",
              "        text-align: right;\n",
              "    }\n",
              "</style>\n",
              "<table border=\"1\" class=\"dataframe\">\n",
              "  <thead>\n",
              "    <tr style=\"text-align: right;\">\n",
              "      <th></th>\n",
              "      <th>product_name</th>\n",
              "      <th>review_title</th>\n",
              "      <th>comment</th>\n",
              "      <th>rating</th>\n",
              "      <th>date</th>\n",
              "      <th>username</th>\n",
              "      <th>profile_url</th>\n",
              "      <th>verified_purchase</th>\n",
              "    </tr>\n",
              "  </thead>\n",
              "  <tbody>\n",
              "    <tr>\n",
              "      <th>125</th>\n",
              "      <td>PRETTYGARDEN Womens Casual Bodycon Pockets</td>\n",
              "      <td>Cute and comfortable. Color was lighter then p...</td>\n",
              "      <td>NaN</td>\n",
              "      <td>4.0 out of 5 stars</td>\n",
              "      <td>December 5, 2022</td>\n",
              "      <td>Bambi</td>\n",
              "      <td>https://amazon.com//gp/profile/amzn1.account.A...</td>\n",
              "      <td>True</td>\n",
              "    </tr>\n",
              "    <tr>\n",
              "      <th>408</th>\n",
              "      <td>PRETTYGARDEN Womens Casual Bodycon Pockets</td>\n",
              "      <td>Very nice</td>\n",
              "      <td>NaN</td>\n",
              "      <td>5.0 out of 5 stars</td>\n",
              "      <td>March 20, 2022</td>\n",
              "      <td>Anavel Castro</td>\n",
              "      <td>https://amazon.com//gp/profile/amzn1.account.A...</td>\n",
              "      <td>True</td>\n",
              "    </tr>\n",
              "    <tr>\n",
              "      <th>467</th>\n",
              "      <td>PRETTYGARDEN Womens Casual Bodycon Pockets</td>\n",
              "      <td>Seam split after two wears</td>\n",
              "      <td>NaN</td>\n",
              "      <td>2.0 out of 5 stars</td>\n",
              "      <td>February 20, 2022</td>\n",
              "      <td>April A.</td>\n",
              "      <td>https://amazon.com//gp/profile/amzn1.account.A...</td>\n",
              "      <td>True</td>\n",
              "    </tr>\n",
              "    <tr>\n",
              "      <th>494</th>\n",
              "      <td>PRETTYGARDEN Womens Casual Bodycon Pockets</td>\n",
              "      <td>This dress is super cute and was so comfortable</td>\n",
              "      <td>NaN</td>\n",
              "      <td>5.0 out of 5 stars</td>\n",
              "      <td>February 8, 2022</td>\n",
              "      <td>Josette McClanahan</td>\n",
              "      <td>https://amazon.com//gp/profile/amzn1.account.A...</td>\n",
              "      <td>True</td>\n",
              "    </tr>\n",
              "    <tr>\n",
              "      <th>530</th>\n",
              "      <td>PRETTYGARDEN Womens Casual Bodycon Pockets</td>\n",
              "      <td>comfortable,you can dress it up or wear as a c...</td>\n",
              "      <td>NaN</td>\n",
              "      <td>5.0 out of 5 stars</td>\n",
              "      <td>January 25, 2022</td>\n",
              "      <td>Dolores</td>\n",
              "      <td>https://amazon.com//gp/profile/amzn1.account.A...</td>\n",
              "      <td>True</td>\n",
              "    </tr>\n",
              "    <tr>\n",
              "      <th>...</th>\n",
              "      <td>...</td>\n",
              "      <td>...</td>\n",
              "      <td>...</td>\n",
              "      <td>...</td>\n",
              "      <td>...</td>\n",
              "      <td>...</td>\n",
              "      <td>...</td>\n",
              "      <td>...</td>\n",
              "    </tr>\n",
              "    <tr>\n",
              "      <th>22605</th>\n",
              "      <td>Seagate Portable External Hard Drive</td>\n",
              "      <td>Hasta el momento a funcionado muy bien con mi ...</td>\n",
              "      <td>NaN</td>\n",
              "      <td>5.0 out of 5 stars</td>\n",
              "      <td>February 18, 2022</td>\n",
              "      <td>Luis</td>\n",
              "      <td>https://amazon.com//gp/profile/amzn1.account.A...</td>\n",
              "      <td>True</td>\n",
              "    </tr>\n",
              "    <tr>\n",
              "      <th>23212</th>\n",
              "      <td>Seagate Portable External Hard Drive</td>\n",
              "      <td>Handy and easy to use</td>\n",
              "      <td>NaN</td>\n",
              "      <td>5.0 out of 5 stars</td>\n",
              "      <td>January 4, 2022</td>\n",
              "      <td>mihir jethwa</td>\n",
              "      <td>https://amazon.com//gp/profile/amzn1.account.A...</td>\n",
              "      <td>True</td>\n",
              "    </tr>\n",
              "    <tr>\n",
              "      <th>23295</th>\n",
              "      <td>Seagate Portable External Hard Drive</td>\n",
              "      <td>Not in its original box. That’s a no for me. I...</td>\n",
              "      <td>NaN</td>\n",
              "      <td>1.0 out of 5 stars</td>\n",
              "      <td>December 29, 2021</td>\n",
              "      <td>Monica</td>\n",
              "      <td>https://amazon.com//gp/profile/amzn1.account.A...</td>\n",
              "      <td>True</td>\n",
              "    </tr>\n",
              "    <tr>\n",
              "      <th>23549</th>\n",
              "      <td>Seagate Portable External Hard Drive</td>\n",
              "      <td>Yes,  so far so good.  It worked no problem.</td>\n",
              "      <td>NaN</td>\n",
              "      <td>4.0 out of 5 stars</td>\n",
              "      <td>December 7, 2021</td>\n",
              "      <td>javier</td>\n",
              "      <td>https://amazon.com//gp/profile/amzn1.account.A...</td>\n",
              "      <td>True</td>\n",
              "    </tr>\n",
              "    <tr>\n",
              "      <th>23604</th>\n",
              "      <td>Seagate Portable External Hard Drive</td>\n",
              "      <td>El cable que vino es incorrecto y no funciona ...</td>\n",
              "      <td>NaN</td>\n",
              "      <td>1.0 out of 5 stars</td>\n",
              "      <td>December 1, 2021</td>\n",
              "      <td>Zoryapple</td>\n",
              "      <td>https://amazon.com//gp/profile/amzn1.account.A...</td>\n",
              "      <td>True</td>\n",
              "    </tr>\n",
              "  </tbody>\n",
              "</table>\n",
              "<p>89 rows × 8 columns</p>\n",
              "</div>"
            ],
            "text/plain": [
              "                                     product_name  \\\n",
              "125    PRETTYGARDEN Womens Casual Bodycon Pockets   \n",
              "408    PRETTYGARDEN Womens Casual Bodycon Pockets   \n",
              "467    PRETTYGARDEN Womens Casual Bodycon Pockets   \n",
              "494    PRETTYGARDEN Womens Casual Bodycon Pockets   \n",
              "530    PRETTYGARDEN Womens Casual Bodycon Pockets   \n",
              "...                                           ...   \n",
              "22605        Seagate Portable External Hard Drive   \n",
              "23212        Seagate Portable External Hard Drive   \n",
              "23295        Seagate Portable External Hard Drive   \n",
              "23549        Seagate Portable External Hard Drive   \n",
              "23604        Seagate Portable External Hard Drive   \n",
              "\n",
              "                                            review_title comment  \\\n",
              "125    Cute and comfortable. Color was lighter then p...     NaN   \n",
              "408                                            Very nice     NaN   \n",
              "467                           Seam split after two wears     NaN   \n",
              "494      This dress is super cute and was so comfortable     NaN   \n",
              "530    comfortable,you can dress it up or wear as a c...     NaN   \n",
              "...                                                  ...     ...   \n",
              "22605  Hasta el momento a funcionado muy bien con mi ...     NaN   \n",
              "23212                              Handy and easy to use     NaN   \n",
              "23295  Not in its original box. That’s a no for me. I...     NaN   \n",
              "23549       Yes,  so far so good.  It worked no problem.     NaN   \n",
              "23604  El cable que vino es incorrecto y no funciona ...     NaN   \n",
              "\n",
              "                   rating               date            username  \\\n",
              "125    4.0 out of 5 stars   December 5, 2022               Bambi   \n",
              "408    5.0 out of 5 stars     March 20, 2022       Anavel Castro   \n",
              "467    2.0 out of 5 stars  February 20, 2022            April A.   \n",
              "494    5.0 out of 5 stars   February 8, 2022  Josette McClanahan   \n",
              "530    5.0 out of 5 stars   January 25, 2022             Dolores   \n",
              "...                   ...                ...                 ...   \n",
              "22605  5.0 out of 5 stars  February 18, 2022                Luis   \n",
              "23212  5.0 out of 5 stars    January 4, 2022        mihir jethwa   \n",
              "23295  1.0 out of 5 stars  December 29, 2021              Monica   \n",
              "23549  4.0 out of 5 stars   December 7, 2021              javier   \n",
              "23604  1.0 out of 5 stars   December 1, 2021           Zoryapple   \n",
              "\n",
              "                                             profile_url  verified_purchase  \n",
              "125    https://amazon.com//gp/profile/amzn1.account.A...               True  \n",
              "408    https://amazon.com//gp/profile/amzn1.account.A...               True  \n",
              "467    https://amazon.com//gp/profile/amzn1.account.A...               True  \n",
              "494    https://amazon.com//gp/profile/amzn1.account.A...               True  \n",
              "530    https://amazon.com//gp/profile/amzn1.account.A...               True  \n",
              "...                                                  ...                ...  \n",
              "22605  https://amazon.com//gp/profile/amzn1.account.A...               True  \n",
              "23212  https://amazon.com//gp/profile/amzn1.account.A...               True  \n",
              "23295  https://amazon.com//gp/profile/amzn1.account.A...               True  \n",
              "23549  https://amazon.com//gp/profile/amzn1.account.A...               True  \n",
              "23604  https://amazon.com//gp/profile/amzn1.account.A...               True  \n",
              "\n",
              "[89 rows x 8 columns]"
            ]
          },
          "execution_count": 11,
          "metadata": {},
          "output_type": "execute_result"
        }
      ],
      "source": [
        "# See rows with missing values\n",
        "df[df.isnull().any(axis=1)]"
      ]
    },
    {
      "cell_type": "code",
      "execution_count": null,
      "id": "37ac1b6e",
      "metadata": {
        "id": "37ac1b6e"
      },
      "outputs": [],
      "source": [
        "df[\"comment\"].fillna(\"Average\", inplace = True)"
      ]
    },
    {
      "cell_type": "code",
      "execution_count": null,
      "id": "9b4666a7",
      "metadata": {
        "id": "9b4666a7",
        "outputId": "4fdb45c5-f99d-4ceb-eee3-35c3ca6ff61d"
      },
      "outputs": [
        {
          "data": {
            "text/plain": [
              "product_name         0\n",
              "review_title         5\n",
              "comment              0\n",
              "rating               0\n",
              "date                 0\n",
              "username             1\n",
              "profile_url          0\n",
              "verified_purchase    0\n",
              "dtype: int64"
            ]
          },
          "execution_count": 16,
          "metadata": {},
          "output_type": "execute_result"
        }
      ],
      "source": [
        "# Now again Check for missing values\n",
        "df.isnull().sum()"
      ]
    },
    {
      "cell_type": "code",
      "execution_count": null,
      "id": "6f5acaab",
      "metadata": {
        "id": "6f5acaab"
      },
      "outputs": [],
      "source": [
        "## Create a dataframe with categorical columns\n",
        "df_cat = df.select_dtypes(include =['object'])"
      ]
    },
    {
      "cell_type": "code",
      "execution_count": null,
      "id": "8e8d4b2a",
      "metadata": {
        "id": "8e8d4b2a",
        "outputId": "31f16b85-5531-49a8-9df6-ee055c98f9b0"
      },
      "outputs": [
        {
          "data": {
            "text/html": [
              "<div>\n",
              "<style scoped>\n",
              "    .dataframe tbody tr th:only-of-type {\n",
              "        vertical-align: middle;\n",
              "    }\n",
              "\n",
              "    .dataframe tbody tr th {\n",
              "        vertical-align: top;\n",
              "    }\n",
              "\n",
              "    .dataframe thead th {\n",
              "        text-align: right;\n",
              "    }\n",
              "</style>\n",
              "<table border=\"1\" class=\"dataframe\">\n",
              "  <thead>\n",
              "    <tr style=\"text-align: right;\">\n",
              "      <th></th>\n",
              "      <th>Total</th>\n",
              "      <th>Percent</th>\n",
              "    </tr>\n",
              "  </thead>\n",
              "  <tbody>\n",
              "    <tr>\n",
              "      <th>review_title</th>\n",
              "      <td>5</td>\n",
              "      <td>0.000207</td>\n",
              "    </tr>\n",
              "    <tr>\n",
              "      <th>username</th>\n",
              "      <td>1</td>\n",
              "      <td>0.000041</td>\n",
              "    </tr>\n",
              "    <tr>\n",
              "      <th>product_name</th>\n",
              "      <td>0</td>\n",
              "      <td>0.000000</td>\n",
              "    </tr>\n",
              "    <tr>\n",
              "      <th>comment</th>\n",
              "      <td>0</td>\n",
              "      <td>0.000000</td>\n",
              "    </tr>\n",
              "    <tr>\n",
              "      <th>rating</th>\n",
              "      <td>0</td>\n",
              "      <td>0.000000</td>\n",
              "    </tr>\n",
              "    <tr>\n",
              "      <th>date</th>\n",
              "      <td>0</td>\n",
              "      <td>0.000000</td>\n",
              "    </tr>\n",
              "    <tr>\n",
              "      <th>profile_url</th>\n",
              "      <td>0</td>\n",
              "      <td>0.000000</td>\n",
              "    </tr>\n",
              "  </tbody>\n",
              "</table>\n",
              "</div>"
            ],
            "text/plain": [
              "              Total   Percent\n",
              "review_title      5  0.000207\n",
              "username          1  0.000041\n",
              "product_name      0  0.000000\n",
              "comment           0  0.000000\n",
              "rating            0  0.000000\n",
              "date              0  0.000000\n",
              "profile_url       0  0.000000"
            ]
          },
          "execution_count": 18,
          "metadata": {},
          "output_type": "execute_result"
        },
        {
          "data": {
            "image/png": "[encoded data removed]",
            "text/plain": [
              "<Figure size 1500x600 with 1 Axes>"
            ]
          },
          "metadata": {},
          "output_type": "display_data"
        }
      ],
      "source": [
        "# Percentage of missing values in each dataframe along with visualization\n",
        "total = df_cat.isnull().sum().sort_values(ascending=False)\n",
        "percent = (df_cat.isnull().sum()/df_cat.isnull().count()).sort_values(ascending=False)\n",
        "missing_data = pd.concat([total, percent], axis=1, keys=['Total', 'Percent'])\n",
        "f, ax = plt.subplots(figsize=(15, 6))\n",
        "plt.xticks(rotation='90')\n",
        "sns.barplot(x=missing_data.index, y=missing_data['Percent'])\n",
        "plt.xlabel('df_cont', fontsize=15)\n",
        "plt.ylabel('Percent of missing values', fontsize=15)\n",
        "plt.title('Percent missing data by feature', fontsize=15)\n",
        "missing_data"
      ]
    },
    {
      "cell_type": "code",
      "execution_count": null,
      "id": "5b4b639d",
      "metadata": {
        "id": "5b4b639d",
        "outputId": "b4efad1f-4754-4df1-88d7-a3e193037f28"
      },
      "outputs": [
        {
          "data": {
            "text/html": [
              "<div>\n",
              "<style scoped>\n",
              "    .dataframe tbody tr th:only-of-type {\n",
              "        vertical-align: middle;\n",
              "    }\n",
              "\n",
              "    .dataframe tbody tr th {\n",
              "        vertical-align: top;\n",
              "    }\n",
              "\n",
              "    .dataframe thead th {\n",
              "        text-align: right;\n",
              "    }\n",
              "</style>\n",
              "<table border=\"1\" class=\"dataframe\">\n",
              "  <thead>\n",
              "    <tr style=\"text-align: right;\">\n",
              "      <th></th>\n",
              "      <th>Total</th>\n",
              "      <th>Percent</th>\n",
              "    </tr>\n",
              "  </thead>\n",
              "  <tbody>\n",
              "    <tr>\n",
              "      <th>verified_purchase</th>\n",
              "      <td>0</td>\n",
              "      <td>0.0</td>\n",
              "    </tr>\n",
              "  </tbody>\n",
              "</table>\n",
              "</div>"
            ],
            "text/plain": [
              "                   Total  Percent\n",
              "verified_purchase      0      0.0"
            ]
          },
          "execution_count": 19,
          "metadata": {},
          "output_type": "execute_result"
        },
        {
          "data": {
            "image/png": "[encoded data removed]",
            "text/plain": [
              "<Figure size 1500x600 with 1 Axes>"
            ]
          },
          "metadata": {},
          "output_type": "display_data"
        }
      ],
      "source": [
        "## Create a dataframe with categorical columns\n",
        "df_bool = df.select_dtypes(include =['bool'])\n",
        "\n",
        "# Percentage of missing values in each dataframe along with visualization\n",
        "total = df_bool.isnull().sum().sort_values(ascending=False)\n",
        "percent = (df_bool.isnull().sum()/df_bool.isnull().count()).sort_values(ascending=False)\n",
        "missing_data = pd.concat([total, percent], axis=1, keys=['Total', 'Percent'])\n",
        "f, ax = plt.subplots(figsize=(15, 6))\n",
        "plt.xticks(rotation='90')\n",
        "sns.barplot(x=missing_data.index, y=missing_data['Percent'])\n",
        "plt.xlabel('df_cont', fontsize=15)\n",
        "plt.ylabel('Percent of missing values', fontsize=15)\n",
        "plt.title('Percent missing data by feature', fontsize=15)\n",
        "missing_data"
      ]
    },
    {
      "cell_type": "code",
      "execution_count": null,
      "id": "4c767d4a",
      "metadata": {
        "id": "4c767d4a"
      },
      "outputs": [],
      "source": [
        "newdf = df.dropna()"
      ]
    },
    {
      "cell_type": "code",
      "execution_count": null,
      "id": "b71717b9",
      "metadata": {
        "id": "b71717b9",
        "outputId": "1d7730d4-d8dd-4e1d-85ff-866995dcd0d0"
      },
      "outputs": [
        {
          "data": {
            "text/plain": [
              "(24094, 8)"
            ]
          },
          "execution_count": 21,
          "metadata": {},
          "output_type": "execute_result"
        }
      ],
      "source": [
        "newdf.shape"
      ]
    },
    {
      "cell_type": "code",
      "execution_count": null,
      "id": "e833f124",
      "metadata": {
        "id": "e833f124",
        "outputId": "e7c6fe30-a0a5-403d-b292-edbf159712a5"
      },
      "outputs": [
        {
          "data": {
            "text/plain": [
              "product_name         0\n",
              "review_title         0\n",
              "comment              0\n",
              "rating               0\n",
              "date                 0\n",
              "username             0\n",
              "profile_url          0\n",
              "verified_purchase    0\n",
              "dtype: int64"
            ]
          },
          "execution_count": 22,
          "metadata": {},
          "output_type": "execute_result"
        }
      ],
      "source": [
        "newdf.isnull().sum()"
      ]
    },
    {
      "cell_type": "code",
      "execution_count": null,
      "id": "0b234be7",
      "metadata": {
        "id": "0b234be7",
        "outputId": "dcd99979-1f0c-47c3-863e-7fc7ba0990bf"
      },
      "outputs": [
        {
          "data": {
            "text/plain": [
              "product_name             9\n",
              "review_title         18027\n",
              "comment              23042\n",
              "rating                   5\n",
              "date                  1276\n",
              "username             19398\n",
              "profile_url          24002\n",
              "verified_purchase        2\n",
              "dtype: int64"
            ]
          },
          "execution_count": 24,
          "metadata": {},
          "output_type": "execute_result"
        }
      ],
      "source": [
        "# Identifying the unique number of values in the dataset\n",
        "newdf.nunique()"
      ]
    },
    {
      "cell_type": "code",
      "execution_count": null,
      "id": "518711a0",
      "metadata": {
        "id": "518711a0",
        "outputId": "fd38035f-c0bf-41b3-a783-12078c5068d7"
      },
      "outputs": [
        {
          "data": {
            "text/html": [
              "<div>\n",
              "<style scoped>\n",
              "    .dataframe tbody tr th:only-of-type {\n",
              "        vertical-align: middle;\n",
              "    }\n",
              "\n",
              "    .dataframe tbody tr th {\n",
              "        vertical-align: top;\n",
              "    }\n",
              "\n",
              "    .dataframe thead th {\n",
              "        text-align: right;\n",
              "    }\n",
              "</style>\n",
              "<table border=\"1\" class=\"dataframe\">\n",
              "  <thead>\n",
              "    <tr style=\"text-align: right;\">\n",
              "      <th></th>\n",
              "      <th>product_name</th>\n",
              "      <th>review_title</th>\n",
              "      <th>comment</th>\n",
              "      <th>rating</th>\n",
              "      <th>date</th>\n",
              "      <th>username</th>\n",
              "      <th>profile_url</th>\n",
              "      <th>verified_purchase</th>\n",
              "    </tr>\n",
              "  </thead>\n",
              "  <tbody>\n",
              "    <tr>\n",
              "      <th>1</th>\n",
              "      <td>PRETTYGARDEN Womens Casual Bodycon Pockets</td>\n",
              "      <td>Size wrong, runs big</td>\n",
              "      <td>Sizes are way off, small is way big on me. I a...</td>\n",
              "      <td>2.0 out of 5 stars</td>\n",
              "      <td>February 14, 2023</td>\n",
              "      <td>matt</td>\n",
              "      <td>https://amazon.com//gp/profile/amzn1.account.A...</td>\n",
              "      <td>True</td>\n",
              "    </tr>\n",
              "    <tr>\n",
              "      <th>3</th>\n",
              "      <td>PRETTYGARDEN Womens Casual Bodycon Pockets</td>\n",
              "      <td>Nice</td>\n",
              "      <td>The dress is really nice. However, I was disap...</td>\n",
              "      <td>3.0 out of 5 stars</td>\n",
              "      <td>February 14, 2023</td>\n",
              "      <td>Amazon Customer</td>\n",
              "      <td>https://amazon.com//gp/profile/amzn1.account.A...</td>\n",
              "      <td>True</td>\n",
              "    </tr>\n",
              "    <tr>\n",
              "      <th>5</th>\n",
              "      <td>PRETTYGARDEN Womens Casual Bodycon Pockets</td>\n",
              "      <td>Great dress not sure if it’s new</td>\n",
              "      <td>Love this dress! I love the fit and stretch. T...</td>\n",
              "      <td>4.0 out of 5 stars</td>\n",
              "      <td>February 13, 2023</td>\n",
              "      <td>EQ</td>\n",
              "      <td>https://amazon.com//gp/profile/amzn1.account.A...</td>\n",
              "      <td>True</td>\n",
              "    </tr>\n",
              "    <tr>\n",
              "      <th>7</th>\n",
              "      <td>PRETTYGARDEN Womens Casual Bodycon Pockets</td>\n",
              "      <td>Stretchy material, great fit!</td>\n",
              "      <td>Loved this dress!  His my mom pooch, and was v...</td>\n",
              "      <td>5.0 out of 5 stars</td>\n",
              "      <td>February 12, 2023</td>\n",
              "      <td>BBHigglet</td>\n",
              "      <td>https://amazon.com//gp/profile/amzn1.account.A...</td>\n",
              "      <td>True</td>\n",
              "    </tr>\n",
              "    <tr>\n",
              "      <th>9</th>\n",
              "      <td>PRETTYGARDEN Womens Casual Bodycon Pockets</td>\n",
              "      <td>Disappointed</td>\n",
              "      <td>5'3 125.3lbs i really wanted to like this dres...</td>\n",
              "      <td>1.0 out of 5 stars</td>\n",
              "      <td>February 12, 2023</td>\n",
              "      <td>Gv</td>\n",
              "      <td>https://amazon.com//gp/profile/amzn1.account.A...</td>\n",
              "      <td>True</td>\n",
              "    </tr>\n",
              "    <tr>\n",
              "      <th>...</th>\n",
              "      <td>...</td>\n",
              "      <td>...</td>\n",
              "      <td>...</td>\n",
              "      <td>...</td>\n",
              "      <td>...</td>\n",
              "      <td>...</td>\n",
              "      <td>...</td>\n",
              "      <td>...</td>\n",
              "    </tr>\n",
              "    <tr>\n",
              "      <th>23591</th>\n",
              "      <td>Seagate Portable External Hard Drive</td>\n",
              "      <td>Perfect</td>\n",
              "      <td>Perfect for my Xbox one</td>\n",
              "      <td>5.0 out of 5 stars</td>\n",
              "      <td>December 3, 2021</td>\n",
              "      <td>Trevor</td>\n",
              "      <td>https://amazon.com//gp/profile/amzn1.account.A...</td>\n",
              "      <td>True</td>\n",
              "    </tr>\n",
              "    <tr>\n",
              "      <th>23726</th>\n",
              "      <td>Seagate Portable External Hard Drive</td>\n",
              "      <td>Great product</td>\n",
              "      <td>Great product</td>\n",
              "      <td>4.0 out of 5 stars</td>\n",
              "      <td>November 21, 2021</td>\n",
              "      <td>Michael Hamilton</td>\n",
              "      <td>https://amazon.com//gp/profile/amzn1.account.A...</td>\n",
              "      <td>True</td>\n",
              "    </tr>\n",
              "    <tr>\n",
              "      <th>23957</th>\n",
              "      <td>Seagate Portable External Hard Drive</td>\n",
              "      <td>Big Enough ( for now)</td>\n",
              "      <td>10TB purchased for a NextCloud backup server. ...</td>\n",
              "      <td>5.0 out of 5 stars</td>\n",
              "      <td>October 28, 2021</td>\n",
              "      <td>Joe5555</td>\n",
              "      <td>https://amazon.com//gp/profile/amzn1.account.A...</td>\n",
              "      <td>True</td>\n",
              "    </tr>\n",
              "    <tr>\n",
              "      <th>23976</th>\n",
              "      <td>Seagate Portable External Hard Drive</td>\n",
              "      <td>LOVE IT!</td>\n",
              "      <td>I used one drive, but got tired of issues (nam...</td>\n",
              "      <td>5.0 out of 5 stars</td>\n",
              "      <td>October 26, 2021</td>\n",
              "      <td>NR</td>\n",
              "      <td>https://amazon.com//gp/profile/amzn1.account.A...</td>\n",
              "      <td>True</td>\n",
              "    </tr>\n",
              "    <tr>\n",
              "      <th>24020</th>\n",
              "      <td>Seagate Portable External Hard Drive</td>\n",
              "      <td>Easy to install, files transfer super fast. Sm...</td>\n",
              "      <td>My desktop was full with photos that I didn't ...</td>\n",
              "      <td>5.0 out of 5 stars</td>\n",
              "      <td>October 21, 2021</td>\n",
              "      <td>Debbie Lynn</td>\n",
              "      <td>https://amazon.com//gp/profile/amzn1.account.A...</td>\n",
              "      <td>False</td>\n",
              "    </tr>\n",
              "  </tbody>\n",
              "</table>\n",
              "<p>92 rows × 8 columns</p>\n",
              "</div>"
            ],
            "text/plain": [
              "                                     product_name  \\\n",
              "1      PRETTYGARDEN Womens Casual Bodycon Pockets   \n",
              "3      PRETTYGARDEN Womens Casual Bodycon Pockets   \n",
              "5      PRETTYGARDEN Womens Casual Bodycon Pockets   \n",
              "7      PRETTYGARDEN Womens Casual Bodycon Pockets   \n",
              "9      PRETTYGARDEN Womens Casual Bodycon Pockets   \n",
              "...                                           ...   \n",
              "23591        Seagate Portable External Hard Drive   \n",
              "23726        Seagate Portable External Hard Drive   \n",
              "23957        Seagate Portable External Hard Drive   \n",
              "23976        Seagate Portable External Hard Drive   \n",
              "24020        Seagate Portable External Hard Drive   \n",
              "\n",
              "                                            review_title  \\\n",
              "1                                   Size wrong, runs big   \n",
              "3                                                   Nice   \n",
              "5                       Great dress not sure if it’s new   \n",
              "7                          Stretchy material, great fit!   \n",
              "9                                           Disappointed   \n",
              "...                                                  ...   \n",
              "23591                                            Perfect   \n",
              "23726                                      Great product   \n",
              "23957                              Big Enough ( for now)   \n",
              "23976                                           LOVE IT!   \n",
              "24020  Easy to install, files transfer super fast. Sm...   \n",
              "\n",
              "                                                 comment              rating  \\\n",
              "1      Sizes are way off, small is way big on me. I a...  2.0 out of 5 stars   \n",
              "3      The dress is really nice. However, I was disap...  3.0 out of 5 stars   \n",
              "5      Love this dress! I love the fit and stretch. T...  4.0 out of 5 stars   \n",
              "7      Loved this dress!  His my mom pooch, and was v...  5.0 out of 5 stars   \n",
              "9      5'3 125.3lbs i really wanted to like this dres...  1.0 out of 5 stars   \n",
              "...                                                  ...                 ...   \n",
              "23591                            Perfect for my Xbox one  5.0 out of 5 stars   \n",
              "23726                                      Great product  4.0 out of 5 stars   \n",
              "23957  10TB purchased for a NextCloud backup server. ...  5.0 out of 5 stars   \n",
              "23976  I used one drive, but got tired of issues (nam...  5.0 out of 5 stars   \n",
              "24020  My desktop was full with photos that I didn't ...  5.0 out of 5 stars   \n",
              "\n",
              "                    date          username  \\\n",
              "1      February 14, 2023              matt   \n",
              "3      February 14, 2023   Amazon Customer   \n",
              "5      February 13, 2023                EQ   \n",
              "7      February 12, 2023         BBHigglet   \n",
              "9      February 12, 2023                Gv   \n",
              "...                  ...               ...   \n",
              "23591   December 3, 2021            Trevor   \n",
              "23726  November 21, 2021  Michael Hamilton   \n",
              "23957   October 28, 2021           Joe5555   \n",
              "23976   October 26, 2021                NR   \n",
              "24020   October 21, 2021       Debbie Lynn   \n",
              "\n",
              "                                             profile_url  verified_purchase  \n",
              "1      https://amazon.com//gp/profile/amzn1.account.A...               True  \n",
              "3      https://amazon.com//gp/profile/amzn1.account.A...               True  \n",
              "5      https://amazon.com//gp/profile/amzn1.account.A...               True  \n",
              "7      https://amazon.com//gp/profile/amzn1.account.A...               True  \n",
              "9      https://amazon.com//gp/profile/amzn1.account.A...               True  \n",
              "...                                                  ...                ...  \n",
              "23591  https://amazon.com//gp/profile/amzn1.account.A...               True  \n",
              "23726  https://amazon.com//gp/profile/amzn1.account.A...               True  \n",
              "23957  https://amazon.com//gp/profile/amzn1.account.A...               True  \n",
              "23976  https://amazon.com//gp/profile/amzn1.account.A...               True  \n",
              "24020  https://amazon.com//gp/profile/amzn1.account.A...              False  \n",
              "\n",
              "[92 rows x 8 columns]"
            ]
          },
          "execution_count": 25,
          "metadata": {},
          "output_type": "execute_result"
        }
      ],
      "source": [
        "duplicate = newdf[newdf.duplicated('profile_url')]\n",
        "duplicate"
      ]
    },
    {
      "cell_type": "code",
      "execution_count": null,
      "id": "ddf0478c",
      "metadata": {
        "id": "ddf0478c",
        "outputId": "a3f4579d-c903-47d7-e415-cb9543902c17"
      },
      "outputs": [
        {
          "data": {
            "text/html": [
              "<div>\n",
              "<style scoped>\n",
              "    .dataframe tbody tr th:only-of-type {\n",
              "        vertical-align: middle;\n",
              "    }\n",
              "\n",
              "    .dataframe tbody tr th {\n",
              "        vertical-align: top;\n",
              "    }\n",
              "\n",
              "    .dataframe thead th {\n",
              "        text-align: right;\n",
              "    }\n",
              "</style>\n",
              "<table border=\"1\" class=\"dataframe\">\n",
              "  <thead>\n",
              "    <tr style=\"text-align: right;\">\n",
              "      <th></th>\n",
              "      <th>product_name</th>\n",
              "      <th>review_title</th>\n",
              "      <th>comment</th>\n",
              "      <th>rating</th>\n",
              "      <th>date</th>\n",
              "      <th>username</th>\n",
              "      <th>profile_url</th>\n",
              "      <th>verified_purchase</th>\n",
              "    </tr>\n",
              "  </thead>\n",
              "  <tbody>\n",
              "    <tr>\n",
              "      <th>20</th>\n",
              "      <td>PRETTYGARDEN Womens Casual Bodycon Pockets</td>\n",
              "      <td>Yes!!</td>\n",
              "      <td>I received so many compliments on this dress! ...</td>\n",
              "      <td>5.0 out of 5 stars</td>\n",
              "      <td>February 9, 2023</td>\n",
              "      <td>Kedra</td>\n",
              "      <td>https://amazon.com//gp/profile/amzn1.account.A...</td>\n",
              "      <td>True</td>\n",
              "    </tr>\n",
              "    <tr>\n",
              "      <th>21</th>\n",
              "      <td>PRETTYGARDEN Womens Casual Bodycon Pockets</td>\n",
              "      <td>Beautiful dress</td>\n",
              "      <td>I love this dress, wore it to an office and it...</td>\n",
              "      <td>5.0 out of 5 stars</td>\n",
              "      <td>February 8, 2023</td>\n",
              "      <td>M. C. Miranda Leon</td>\n",
              "      <td>https://amazon.com//gp/profile/amzn1.account.A...</td>\n",
              "      <td>True</td>\n",
              "    </tr>\n",
              "    <tr>\n",
              "      <th>22</th>\n",
              "      <td>PRETTYGARDEN Womens Casual Bodycon Pockets</td>\n",
              "      <td>Great fitting</td>\n",
              "      <td>It's very flattering, especially for girls wit...</td>\n",
              "      <td>5.0 out of 5 stars</td>\n",
              "      <td>February 8, 2023</td>\n",
              "      <td>B Cast</td>\n",
              "      <td>https://amazon.com//gp/profile/amzn1.account.A...</td>\n",
              "      <td>True</td>\n",
              "    </tr>\n",
              "    <tr>\n",
              "      <th>23</th>\n",
              "      <td>PRETTYGARDEN Womens Casual Bodycon Pockets</td>\n",
              "      <td>Most comfortable dress ever</td>\n",
              "      <td>This fit in all of the right places.  So flatt...</td>\n",
              "      <td>5.0 out of 5 stars</td>\n",
              "      <td>February 7, 2023</td>\n",
              "      <td>Michele Smading</td>\n",
              "      <td>https://amazon.com//gp/profile/amzn1.account.A...</td>\n",
              "      <td>True</td>\n",
              "    </tr>\n",
              "    <tr>\n",
              "      <th>24</th>\n",
              "      <td>PRETTYGARDEN Womens Casual Bodycon Pockets</td>\n",
              "      <td>Love it</td>\n",
              "      <td>I love this dress so much I had to get it in r...</td>\n",
              "      <td>5.0 out of 5 stars</td>\n",
              "      <td>February 5, 2023</td>\n",
              "      <td>Octavia Davis</td>\n",
              "      <td>https://amazon.com//gp/profile/amzn1.account.A...</td>\n",
              "      <td>True</td>\n",
              "    </tr>\n",
              "    <tr>\n",
              "      <th>...</th>\n",
              "      <td>...</td>\n",
              "      <td>...</td>\n",
              "      <td>...</td>\n",
              "      <td>...</td>\n",
              "      <td>...</td>\n",
              "      <td>...</td>\n",
              "      <td>...</td>\n",
              "      <td>...</td>\n",
              "    </tr>\n",
              "    <tr>\n",
              "      <th>24095</th>\n",
              "      <td>TOZO T6 Bluetooth Headphones Waterproof</td>\n",
              "      <td>Second time I've orderec</td>\n",
              "      <td>These work great.</td>\n",
              "      <td>5.0 out of 5 stars</td>\n",
              "      <td>March 26, 2023</td>\n",
              "      <td>Lynn Maple</td>\n",
              "      <td>https://amazon.com//gp/profile/amzn1.account.A...</td>\n",
              "      <td>True</td>\n",
              "    </tr>\n",
              "    <tr>\n",
              "      <th>24096</th>\n",
              "      <td>TOZO T6 Bluetooth Headphones Waterproof</td>\n",
              "      <td>Excellent sound and long battery life</td>\n",
              "      <td>Very nice quality before you even take the hea...</td>\n",
              "      <td>5.0 out of 5 stars</td>\n",
              "      <td>March 26, 2023</td>\n",
              "      <td>Rick Dorsino</td>\n",
              "      <td>https://amazon.com//gp/profile/amzn1.account.A...</td>\n",
              "      <td>True</td>\n",
              "    </tr>\n",
              "    <tr>\n",
              "      <th>24097</th>\n",
              "      <td>TOZO T6 Bluetooth Headphones Waterproof</td>\n",
              "      <td>So so</td>\n",
              "      <td>While i love these ear buds and the sound they...</td>\n",
              "      <td>3.0 out of 5 stars</td>\n",
              "      <td>March 26, 2023</td>\n",
              "      <td>Abiah Crain</td>\n",
              "      <td>https://amazon.com//gp/profile/amzn1.account.A...</td>\n",
              "      <td>True</td>\n",
              "    </tr>\n",
              "    <tr>\n",
              "      <th>24098</th>\n",
              "      <td>TOZO T6 Bluetooth Headphones Waterproof</td>\n",
              "      <td>I only have 2 complaints</td>\n",
              "      <td>The earbuds themselves work great. They fit we...</td>\n",
              "      <td>4.0 out of 5 stars</td>\n",
              "      <td>March 26, 2023</td>\n",
              "      <td>Ashley Calloway</td>\n",
              "      <td>https://amazon.com//gp/profile/amzn1.account.A...</td>\n",
              "      <td>True</td>\n",
              "    </tr>\n",
              "    <tr>\n",
              "      <th>24099</th>\n",
              "      <td>TOZO T6 Bluetooth Headphones Waterproof</td>\n",
              "      <td>Worthy wear</td>\n",
              "      <td>This is the second time I’ve ordered this item...</td>\n",
              "      <td>5.0 out of 5 stars</td>\n",
              "      <td>March 26, 2023</td>\n",
              "      <td>Norma</td>\n",
              "      <td>https://amazon.com//gp/profile/amzn1.account.A...</td>\n",
              "      <td>True</td>\n",
              "    </tr>\n",
              "  </tbody>\n",
              "</table>\n",
              "<p>23910 rows × 8 columns</p>\n",
              "</div>"
            ],
            "text/plain": [
              "                                     product_name  \\\n",
              "20     PRETTYGARDEN Womens Casual Bodycon Pockets   \n",
              "21     PRETTYGARDEN Womens Casual Bodycon Pockets   \n",
              "22     PRETTYGARDEN Womens Casual Bodycon Pockets   \n",
              "23     PRETTYGARDEN Womens Casual Bodycon Pockets   \n",
              "24     PRETTYGARDEN Womens Casual Bodycon Pockets   \n",
              "...                                           ...   \n",
              "24095     TOZO T6 Bluetooth Headphones Waterproof   \n",
              "24096     TOZO T6 Bluetooth Headphones Waterproof   \n",
              "24097     TOZO T6 Bluetooth Headphones Waterproof   \n",
              "24098     TOZO T6 Bluetooth Headphones Waterproof   \n",
              "24099     TOZO T6 Bluetooth Headphones Waterproof   \n",
              "\n",
              "                                review_title  \\\n",
              "20                                     Yes!!   \n",
              "21                           Beautiful dress   \n",
              "22                             Great fitting   \n",
              "23               Most comfortable dress ever   \n",
              "24                                   Love it   \n",
              "...                                      ...   \n",
              "24095               Second time I've orderec   \n",
              "24096  Excellent sound and long battery life   \n",
              "24097                                  So so   \n",
              "24098               I only have 2 complaints   \n",
              "24099                            Worthy wear   \n",
              "\n",
              "                                                 comment              rating  \\\n",
              "20     I received so many compliments on this dress! ...  5.0 out of 5 stars   \n",
              "21     I love this dress, wore it to an office and it...  5.0 out of 5 stars   \n",
              "22     It's very flattering, especially for girls wit...  5.0 out of 5 stars   \n",
              "23     This fit in all of the right places.  So flatt...  5.0 out of 5 stars   \n",
              "24     I love this dress so much I had to get it in r...  5.0 out of 5 stars   \n",
              "...                                                  ...                 ...   \n",
              "24095                                  These work great.  5.0 out of 5 stars   \n",
              "24096  Very nice quality before you even take the hea...  5.0 out of 5 stars   \n",
              "24097  While i love these ear buds and the sound they...  3.0 out of 5 stars   \n",
              "24098  The earbuds themselves work great. They fit we...  4.0 out of 5 stars   \n",
              "24099  This is the second time I’ve ordered this item...  5.0 out of 5 stars   \n",
              "\n",
              "                   date            username  \\\n",
              "20     February 9, 2023               Kedra   \n",
              "21     February 8, 2023  M. C. Miranda Leon   \n",
              "22     February 8, 2023              B Cast   \n",
              "23     February 7, 2023     Michele Smading   \n",
              "24     February 5, 2023       Octavia Davis   \n",
              "...                 ...                 ...   \n",
              "24095    March 26, 2023          Lynn Maple   \n",
              "24096    March 26, 2023        Rick Dorsino   \n",
              "24097    March 26, 2023         Abiah Crain   \n",
              "24098    March 26, 2023     Ashley Calloway   \n",
              "24099    March 26, 2023               Norma   \n",
              "\n",
              "                                             profile_url  verified_purchase  \n",
              "20     https://amazon.com//gp/profile/amzn1.account.A...               True  \n",
              "21     https://amazon.com//gp/profile/amzn1.account.A...               True  \n",
              "22     https://amazon.com//gp/profile/amzn1.account.A...               True  \n",
              "23     https://amazon.com//gp/profile/amzn1.account.A...               True  \n",
              "24     https://amazon.com//gp/profile/amzn1.account.A...               True  \n",
              "...                                                  ...                ...  \n",
              "24095  https://amazon.com//gp/profile/amzn1.account.A...               True  \n",
              "24096  https://amazon.com//gp/profile/amzn1.account.A...               True  \n",
              "24097  https://amazon.com//gp/profile/amzn1.account.A...               True  \n",
              "24098  https://amazon.com//gp/profile/amzn1.account.A...               True  \n",
              "24099  https://amazon.com//gp/profile/amzn1.account.A...               True  \n",
              "\n",
              "[23910 rows x 8 columns]"
            ]
          },
          "execution_count": 28,
          "metadata": {},
          "output_type": "execute_result"
        }
      ],
      "source": [
        "newdf.drop_duplicates(subset=\"profile_url\")"
      ]
    },
    {
      "cell_type": "code",
      "execution_count": null,
      "id": "a28f74b5",
      "metadata": {
        "id": "a28f74b5",
        "outputId": "986bb0f5-9318-44b8-f276-57af31b4d946"
      },
      "outputs": [
        {
          "data": {
            "text/plain": [
              "(23910, 8)"
            ]
          },
          "execution_count": 29,
          "metadata": {},
          "output_type": "execute_result"
        }
      ],
      "source": [
        "newdf.shape"
      ]
    },
    {
      "cell_type": "code",
      "execution_count": null,
      "id": "2c47e3e9",
      "metadata": {
        "id": "2c47e3e9",
        "outputId": "d71c1e96-867a-4027-d484-185fa89c49dd"
      },
      "outputs": [
        {
          "data": {
            "text/plain": [
              "product_name             9\n",
              "review_title         17918\n",
              "comment              22900\n",
              "rating                   5\n",
              "date                  1276\n",
              "username             19328\n",
              "profile_url          23910\n",
              "verified_purchase        2\n",
              "dtype: int64"
            ]
          },
          "execution_count": 30,
          "metadata": {},
          "output_type": "execute_result"
        }
      ],
      "source": [
        "newdf.nunique()"
      ]
    },
    {
      "cell_type": "code",
      "execution_count": null,
      "id": "c37b0e4e",
      "metadata": {
        "id": "c37b0e4e",
        "outputId": "a8cbbbde-37bd-4a0c-fe35-eff5ce9fbe30"
      },
      "outputs": [
        {
          "data": {
            "text/html": [
              "<div>\n",
              "<style scoped>\n",
              "    .dataframe tbody tr th:only-of-type {\n",
              "        vertical-align: middle;\n",
              "    }\n",
              "\n",
              "    .dataframe tbody tr th {\n",
              "        vertical-align: top;\n",
              "    }\n",
              "\n",
              "    .dataframe thead th {\n",
              "        text-align: right;\n",
              "    }\n",
              "</style>\n",
              "<table border=\"1\" class=\"dataframe\">\n",
              "  <thead>\n",
              "    <tr style=\"text-align: right;\">\n",
              "      <th></th>\n",
              "      <th>product_name</th>\n",
              "      <th>review_title</th>\n",
              "      <th>comment</th>\n",
              "      <th>rating</th>\n",
              "      <th>date</th>\n",
              "      <th>username</th>\n",
              "      <th>profile_url</th>\n",
              "      <th>verified_purchase</th>\n",
              "    </tr>\n",
              "  </thead>\n",
              "  <tbody>\n",
              "    <tr>\n",
              "      <th>count</th>\n",
              "      <td>23910</td>\n",
              "      <td>23910</td>\n",
              "      <td>23910</td>\n",
              "      <td>23910</td>\n",
              "      <td>23910</td>\n",
              "      <td>23910</td>\n",
              "      <td>23910</td>\n",
              "      <td>23910</td>\n",
              "    </tr>\n",
              "    <tr>\n",
              "      <th>unique</th>\n",
              "      <td>9</td>\n",
              "      <td>17918</td>\n",
              "      <td>22900</td>\n",
              "      <td>5</td>\n",
              "      <td>1276</td>\n",
              "      <td>19328</td>\n",
              "      <td>23910</td>\n",
              "      <td>2</td>\n",
              "    </tr>\n",
              "    <tr>\n",
              "      <th>top</th>\n",
              "      <td>Apple AirPods Charging Latest Model</td>\n",
              "      <td>Great</td>\n",
              "      <td>Average</td>\n",
              "      <td>5.0 out of 5 stars</td>\n",
              "      <td>October 14, 2022</td>\n",
              "      <td>Amazon Customer</td>\n",
              "      <td>https://amazon.com//gp/profile/amzn1.account.A...</td>\n",
              "      <td>True</td>\n",
              "    </tr>\n",
              "    <tr>\n",
              "      <th>freq</th>\n",
              "      <td>4977</td>\n",
              "      <td>182</td>\n",
              "      <td>83</td>\n",
              "      <td>13672</td>\n",
              "      <td>69</td>\n",
              "      <td>1382</td>\n",
              "      <td>1</td>\n",
              "      <td>22856</td>\n",
              "    </tr>\n",
              "  </tbody>\n",
              "</table>\n",
              "</div>"
            ],
            "text/plain": [
              "                               product_name review_title  comment  \\\n",
              "count                                 23910        23910    23910   \n",
              "unique                                    9        17918    22900   \n",
              "top     Apple AirPods Charging Latest Model        Great  Average   \n",
              "freq                                   4977          182       83   \n",
              "\n",
              "                    rating              date         username  \\\n",
              "count                23910             23910            23910   \n",
              "unique                   5              1276            19328   \n",
              "top     5.0 out of 5 stars  October 14, 2022  Amazon Customer   \n",
              "freq                 13672                69             1382   \n",
              "\n",
              "                                              profile_url verified_purchase  \n",
              "count                                               23910             23910  \n",
              "unique                                              23910                 2  \n",
              "top     https://amazon.com//gp/profile/amzn1.account.A...              True  \n",
              "freq                                                    1             22856  "
            ]
          },
          "execution_count": 31,
          "metadata": {},
          "output_type": "execute_result"
        }
      ],
      "source": [
        "# Viewing the data statistics\n",
        "newdf.describe()"
      ]
    },
    {
      "cell_type": "code",
      "execution_count": null,
      "id": "7903a0d3",
      "metadata": {
        "id": "7903a0d3"
      },
      "outputs": [],
      "source": [
        "newdf.to_csv('Final Dataset.csv')"
      ]
    },
    {
      "cell_type": "code",
      "execution_count": null,
      "id": "9be7c660",
      "metadata": {
        "id": "9be7c660"
      },
      "outputs": [],
      "source": []
    },
    {
      "cell_type": "code",
      "execution_count": null,
      "id": "56fc58c4",
      "metadata": {
        "id": "56fc58c4"
      },
      "outputs": [],
      "source": []
    }
  ],
  "metadata": {
    "kernelspec": {
      "display_name": "Python 3 (ipykernel)",
      "language": "python",
      "name": "python3"
    },
    "language_info": {
      "codemirror_mode": {
        "name": "ipython",
        "version": 3
      },
      "file_extension": ".py",
      "mimetype": "text/x-python",
      "name": "python",
      "nbconvert_exporter": "python",
      "pygments_lexer": "ipython3",
      "version": "3.9.13"
    },
    "colab": {
      "provenance": [],
      "include_colab_link": true
    }
  },
  "nbformat": 4,
  "nbformat_minor": 5
}